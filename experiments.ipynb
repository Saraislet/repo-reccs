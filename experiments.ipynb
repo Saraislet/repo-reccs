{
 "cells": [
  {
   "cell_type": "code",
   "execution_count": null,
   "metadata": {
    "collapsed": true
   },
   "outputs": [],
   "source": [
    "# import os, datetime\n",
    "# import github\n",
    "# from progress.bar import ShadyBar\n",
    "# from progress.spinner import Spinner\n",
    "# import secrets\n",
    "import pandas as pd\n",
    "import numpy as np\n",
    "from scipy.sparse.linalg import svds\n",
    "from flask import Flask\n",
    "from model import (Repo, User, Follower,\n",
    "                   Stargazer, Watcher, Contributor,\n",
    "                   Language, RepoLanguage,\n",
    "                   db, connect_to_db, db_uri)\n",
    "import utils"
   ]
  },
  {
   "cell_type": "code",
   "execution_count": null,
   "metadata": {
    "collapsed": true
   },
   "outputs": [],
   "source": [
    "app = Flask(__name__)\n",
    "connect_to_db(app)"
   ]
  },
  {
   "cell_type": "code",
   "execution_count": null,
   "metadata": {
    "collapsed": false
   },
   "outputs": [],
   "source": [
    "# users = User.query.all()\n",
    "# users_list = [[user.user_id, user.login, user.name]  for user in users]\n",
    "\n",
    "# repos = Repo.query.all()\n",
    "# repos_list = [[repo.repo_id, repo.name] for repo in repos]\n",
    "# repos_df = pd.DataFrame(repos_list, columns = [\"repo_id\", \"repo_name\"])\n",
    "\n",
    "ratings = Stargazer.query.all()\n",
    "ratings_list = [[rating.user_id, rating.repo_id, 1] for rating in ratings]\n",
    "ratings_df = pd.DataFrame(ratings_list, columns = [\"user_id\", \"repo_id\", \"Rating\"], dtype = int)\n",
    "R_df = ratings_df.pivot(index=\"user_id\", columns = \"repo_id\", values = \"Rating\").fillna(0)\n",
    "R = R_df.as_matrix()"
   ]
  },
  {
   "cell_type": "code",
   "execution_count": null,
   "metadata": {
    "collapsed": true
   },
   "outputs": [],
   "source": [
    "user_ratings_mean = np.mean(R, axis = 1)\n",
    "R_demeaned = R - user_ratings_mean.reshape(-1, 1)"
   ]
  },
  {
   "cell_type": "code",
   "execution_count": null,
   "metadata": {
    "collapsed": false
   },
   "outputs": [],
   "source": [
    "U, sigma, Vt = svds(R_demeaned, k = 50)\n",
    "sigma = np.diag(sigma)\n",
    "predicted_ratings = np.dot(np.dot(U, sigma), Vt) + user_ratings_mean.reshape(-1, 1)\n",
    "predictions_df = pd.DataFrame(predicted_ratings, columns = R_df.columns, index = R_df.index)\n",
    "predictions_df[predictions_df < 0.99].loc[10337420].sort_values(ascending=False).index.tolist()"
   ]
  },
  {
   "cell_type": "code",
   "execution_count": null,
   "metadata": {
    "collapsed": false
   },
   "outputs": [],
   "source": [
    "# print(user_ratings_mean)\n",
    "# for mean in user_ratings_mean:\n",
    "#     print(mean)\n",
    "# print(R_demeaned)\n",
    "# print(sigma)\n",
    "# predictions_df.head()\n",
    "user_ratings_mean_df = pd.DataFrame(user_ratings_mean, index = R_df.index)\n",
    "# user_ratings_mean_df.sort_values(ascending=False)"
   ]
  },
  {
   "cell_type": "code",
   "execution_count": null,
   "metadata": {
    "collapsed": false
   },
   "outputs": [],
   "source": [
    "user_ratings_mean_df.iloc[:,0].sort_values(ascending=False).head()"
   ]
  },
  {
   "cell_type": "code",
   "execution_count": null,
   "metadata": {
    "collapsed": false
   },
   "outputs": [],
   "source": [
    "# predictions_df[predictions_df < 1].iloc[77].sort_values(ascending=False)\n",
    "predictions_df.iloc[77].sort_values(ascending=False).head()"
   ]
  },
  {
   "cell_type": "code",
   "execution_count": null,
   "metadata": {
    "collapsed": false,
    "scrolled": true
   },
   "outputs": [],
   "source": [
    "predictions_df.head()"
   ]
  },
  {
   "cell_type": "code",
   "execution_count": null,
   "metadata": {
    "collapsed": false,
    "scrolled": true
   },
   "outputs": [],
   "source": [
    "User.query.get(10337420)"
   ]
  },
  {
   "cell_type": "code",
   "execution_count": null,
   "metadata": {
    "collapsed": false,
    "scrolled": true
   },
   "outputs": [],
   "source": [
    "predictions_df[predictions_df < .99].loc[10337420].sort_values(ascending=False).head()"
   ]
  },
  {
   "cell_type": "code",
   "execution_count": null,
   "metadata": {
    "collapsed": false
   },
   "outputs": [],
   "source": [
    "predictions_df[predictions_df < 0.99].loc[10337420].sort_values(ascending=False).index.tolist()"
   ]
  }
 ],
 "metadata": {
  "kernelspec": {
   "display_name": "Python 3",
   "language": "python",
   "name": "python3"
  },
  "language_info": {
   "codemirror_mode": {
    "name": "ipython",
    "version": 3
   },
   "file_extension": ".py",
   "mimetype": "text/x-python",
   "name": "python",
   "nbconvert_exporter": "python",
   "pygments_lexer": "ipython3",
   "version": "3.6.0"
  }
 },
 "nbformat": 4,
 "nbformat_minor": 2
}
